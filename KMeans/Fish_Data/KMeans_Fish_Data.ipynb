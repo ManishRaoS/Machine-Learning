{
 "cells": [
  {
   "cell_type": "markdown",
   "metadata": {},
   "source": [
    "#                                           KMeans - Fish Dataset\n",
    "\n",
    "### I have used the following tools and concepts to build a model for the Fish Dataset:\n",
    "* Pandas\n",
    "* Numpy\n",
    "* Matplotlib \n",
    "* Scikit-learn\n",
    "* KMeans-Clustering\n",
    "* Elbow-Point (Determining optimal number of clusters)\n",
    "* StandardScaler\n",
    "* Pipelining\n",
    "* Principal Component Analysis - PCA\n",
    "* Scree plot"
   ]
  },
  {
   "cell_type": "code",
   "execution_count": 41,
   "metadata": {},
   "outputs": [],
   "source": [
    "# Importing the libraries\n",
    "import pandas as pd\n",
    "import numpy as np\n",
    "import matplotlib.pyplot as plt\n",
    "from sklearn.cluster import KMeans\n",
    "from sklearn.preprocessing import StandardScaler\n",
    "from sklearn.pipeline import make_pipeline"
   ]
  },
  {
   "cell_type": "code",
   "execution_count": 42,
   "metadata": {},
   "outputs": [
    {
     "data": {
      "text/html": [
       "<div>\n",
       "<style scoped>\n",
       "    .dataframe tbody tr th:only-of-type {\n",
       "        vertical-align: middle;\n",
       "    }\n",
       "\n",
       "    .dataframe tbody tr th {\n",
       "        vertical-align: top;\n",
       "    }\n",
       "\n",
       "    .dataframe thead th {\n",
       "        text-align: right;\n",
       "    }\n",
       "</style>\n",
       "<table border=\"1\" class=\"dataframe\">\n",
       "  <thead>\n",
       "    <tr style=\"text-align: right;\">\n",
       "      <th></th>\n",
       "      <th>0</th>\n",
       "      <th>1</th>\n",
       "      <th>2</th>\n",
       "      <th>3</th>\n",
       "      <th>4</th>\n",
       "      <th>5</th>\n",
       "      <th>6</th>\n",
       "    </tr>\n",
       "  </thead>\n",
       "  <tbody>\n",
       "    <tr>\n",
       "      <td>0</td>\n",
       "      <td>Bream</td>\n",
       "      <td>242.0</td>\n",
       "      <td>23.2</td>\n",
       "      <td>25.4</td>\n",
       "      <td>30.0</td>\n",
       "      <td>38.4</td>\n",
       "      <td>13.4</td>\n",
       "    </tr>\n",
       "    <tr>\n",
       "      <td>1</td>\n",
       "      <td>Bream</td>\n",
       "      <td>290.0</td>\n",
       "      <td>24.0</td>\n",
       "      <td>26.3</td>\n",
       "      <td>31.2</td>\n",
       "      <td>40.0</td>\n",
       "      <td>13.8</td>\n",
       "    </tr>\n",
       "    <tr>\n",
       "      <td>2</td>\n",
       "      <td>Bream</td>\n",
       "      <td>340.0</td>\n",
       "      <td>23.9</td>\n",
       "      <td>26.5</td>\n",
       "      <td>31.1</td>\n",
       "      <td>39.8</td>\n",
       "      <td>15.1</td>\n",
       "    </tr>\n",
       "    <tr>\n",
       "      <td>3</td>\n",
       "      <td>Bream</td>\n",
       "      <td>363.0</td>\n",
       "      <td>26.3</td>\n",
       "      <td>29.0</td>\n",
       "      <td>33.5</td>\n",
       "      <td>38.0</td>\n",
       "      <td>13.3</td>\n",
       "    </tr>\n",
       "    <tr>\n",
       "      <td>4</td>\n",
       "      <td>Bream</td>\n",
       "      <td>430.0</td>\n",
       "      <td>26.5</td>\n",
       "      <td>29.0</td>\n",
       "      <td>34.0</td>\n",
       "      <td>36.6</td>\n",
       "      <td>15.1</td>\n",
       "    </tr>\n",
       "  </tbody>\n",
       "</table>\n",
       "</div>"
      ],
      "text/plain": [
       "       0      1     2     3     4     5     6\n",
       "0  Bream  242.0  23.2  25.4  30.0  38.4  13.4\n",
       "1  Bream  290.0  24.0  26.3  31.2  40.0  13.8\n",
       "2  Bream  340.0  23.9  26.5  31.1  39.8  15.1\n",
       "3  Bream  363.0  26.3  29.0  33.5  38.0  13.3\n",
       "4  Bream  430.0  26.5  29.0  34.0  36.6  15.1"
      ]
     },
     "execution_count": 42,
     "metadata": {},
     "output_type": "execute_result"
    }
   ],
   "source": [
    "# Importing the dataset\n",
    "dataset = pd.read_csv(\"Fish.csv\", header=None)\n",
    "dataset.head()"
   ]
  },
  {
   "cell_type": "code",
   "execution_count": 43,
   "metadata": {},
   "outputs": [],
   "source": [
    "# Assigning variables for clustering\n",
    "X = dataset.iloc[:, 1:]\n",
    "y = dataset.iloc[:, 0]"
   ]
  },
  {
   "cell_type": "code",
   "execution_count": 44,
   "metadata": {},
   "outputs": [
    {
     "data": {
      "image/png": "[encoded data removed]",
      "text/plain": [
       "<Figure size 432x288 with 1 Axes>"
      ]
     },
     "metadata": {
      "needs_background": "light"
     },
     "output_type": "display_data"
    }
   ],
   "source": [
    "# Using the elbow method to find the optimal number of clusters\n",
    "wcss = []\n",
    "for i in range(1,11):\n",
    "    kmeans = KMeans(n_clusters=i, init='k-means++', random_state=42)\n",
    "    kmeans.fit(X)\n",
    "    wcss.append(kmeans.inertia_)\n",
    "plt.plot(range(1, 11), wcss)\n",
    "plt.title('The Elbow Method')\n",
    "plt.xlabel('Number of clusters')\n",
    "plt.ylabel('WCSS')\n",
    "plt.show()"
   ]
  },
  {
   "cell_type": "markdown",
   "metadata": {},
   "source": [
    "### Inference\n",
    "* From the above plot, the elbow point can be clearly observed at 4.\n",
    "* Therefore the optimal number of clusters is 4."
   ]
  },
  {
   "cell_type": "code",
   "execution_count": 45,
   "metadata": {},
   "outputs": [],
   "source": [
    "# Fitting K-Means to the dataset\n",
    "kmeans = KMeans(n_clusters=4, init='k-means++', random_state=42)\n",
    "labels = kmeans.fit_predict(X)"
   ]
  },
  {
   "cell_type": "code",
   "execution_count": 46,
   "metadata": {},
   "outputs": [
    {
     "name": "stdout",
     "output_type": "stream",
     "text": [
      "species  Bream  Pike  Roach  Smelt\n",
      "labels                            \n",
      "0            1     1     17     14\n",
      "1           16     2      0      0\n",
      "2           17    10      3      0\n",
      "3            0     4      0      0\n"
     ]
    }
   ],
   "source": [
    "# Creating a DataFrame with labels and species as columns: df\n",
    "df = pd.DataFrame({'labels':labels, 'species': y})\n",
    "\n",
    "# Creating crosstab: ct\n",
    "ct = pd.crosstab(df['labels'], df['species'])\n",
    "\n",
    "# Displaying ct\n",
    "print(ct)"
   ]
  },
  {
   "cell_type": "markdown",
   "metadata": {},
   "source": [
    "### Inference\n",
    "* From the above crosstabulation, it can be seen that cluster 0 is not satisfacory.\n",
    "* Therefore, Scaling the data might provide a better clustering of the data."
   ]
  },
  {
   "cell_type": "code",
   "execution_count": 47,
   "metadata": {},
   "outputs": [],
   "source": [
    "# Creating scaler: scaler\n",
    "scaler = StandardScaler()\n",
    "\n",
    "# Creating KMeans instance: kmeans\n",
    "kmeans = KMeans(n_clusters=4)\n",
    "\n",
    "# Creating pipeline: pipeline\n",
    "pipeline = make_pipeline(scaler, kmeans)"
   ]
  },
  {
   "cell_type": "code",
   "execution_count": 48,
   "metadata": {},
   "outputs": [
    {
     "name": "stdout",
     "output_type": "stream",
     "text": [
      "species  Bream  Pike  Roach  Smelt\n",
      "labels                            \n",
      "0            1     0     19      1\n",
      "1            0    17      0      0\n",
      "2            0     0      0     13\n",
      "3           33     0      1      0\n"
     ]
    }
   ],
   "source": [
    "# Fitting the pipeline to the data\n",
    "pipeline.fit(X)\n",
    "\n",
    "# Calculating the cluster labels: labels\n",
    "labels = pipeline.predict(X)\n",
    "\n",
    "# Creating a DataFrame with labels and species as columns: df\n",
    "df = pd.DataFrame({'labels':labels, 'species': y})\n",
    "\n",
    "# Creating crosstab: ct\n",
    "ct = pd.crosstab(df['labels'], df['species'])\n",
    "\n",
    "# Displaying ct\n",
    "print(ct)"
   ]
  },
  {
   "cell_type": "markdown",
   "metadata": {},
   "source": [
    "### Inference\n",
    "* From the above crosstabulation, it can be seen that the cluster 0 is more accurate than the model fitted without scaling.\n",
    "* We can also check if all the features used to cluster the data is relevant by creating a scree plot using PCA."
   ]
  },
  {
   "cell_type": "code",
   "execution_count": 49,
   "metadata": {},
   "outputs": [
    {
     "data": {
      "image/png": "[encoded data removed]",
      "text/plain": [
       "<Figure size 432x288 with 1 Axes>"
      ]
     },
     "metadata": {
      "needs_background": "light"
     },
     "output_type": "display_data"
    }
   ],
   "source": [
    "# Creating a PCA instance: pca\n",
    "pca = PCA()\n",
    "\n",
    "# Createing pipeline: pipeline\n",
    "pipeline = make_pipeline(scaler, pca)\n",
    "\n",
    "# Fitting the pipeline to the data\n",
    "pipeline.fit(X)\n",
    "\n",
    "# Plotting the explained variances : scree plot\n",
    "features = range(pca.n_components_)\n",
    "plt.bar(features, pca.explained_variance_)\n",
    "plt.xlabel('PCA feature')\n",
    "plt.ylabel('variance')\n",
    "plt.xticks(features)\n",
    "plt.show()"
   ]
  },
  {
   "cell_type": "markdown",
   "metadata": {},
   "source": [
    "### Inference\n",
    "* From the above scree plot, it can be seen that the features 0 and 1 explain most of the variance in the data.\n",
    "* Therefore, scaling and transforming the data using PCA can reduce the number of features required for clustering."
   ]
  },
  {
   "cell_type": "code",
   "execution_count": 50,
   "metadata": {},
   "outputs": [],
   "source": [
    "# Creating a PCA model with 2 components: pca\n",
    "pca = PCA(n_components=2)\n",
    "\n",
    "# Createing pipeline: pipeline\n",
    "pipeline = make_pipeline(scaler, pca)\n",
    "\n",
    "# Fitting and transforming the pipeline \n",
    "pca_features = pipeline.fit_transform(X)"
   ]
  },
  {
   "cell_type": "code",
   "execution_count": 51,
   "metadata": {},
   "outputs": [],
   "source": [
    "# Fitting K-Means to the dataset with pca features\n",
    "kmeans = KMeans(n_clusters=4, init='k-means++', random_state=42)\n",
    "labels = kmeans.fit_predict(pca_features)"
   ]
  },
  {
   "cell_type": "code",
   "execution_count": 52,
   "metadata": {},
   "outputs": [
    {
     "name": "stdout",
     "output_type": "stream",
     "text": [
      "species  Bream  Pike  Roach  Smelt\n",
      "labels                            \n",
      "0            3     0     19      0\n",
      "1            0    17      0      0\n",
      "2           31     0      1      0\n",
      "3            0     0      0     14\n"
     ]
    }
   ],
   "source": [
    "# Creating a DataFrame with labels and species as columns: df\n",
    "df = pd.DataFrame({'labels':labels, 'species': y})\n",
    "\n",
    "# Creating crosstab: ct\n",
    "ct = pd.crosstab(df['labels'], df['species'])\n",
    "\n",
    "# Displaying ct\n",
    "print(ct)"
   ]
  },
  {
   "cell_type": "markdown",
   "metadata": {},
   "source": [
    "### Inference\n",
    "* It can be seen that using only two scaled pca features gives approximately the same clustering results as obtained from the 6 scaled features."
   ]
  },
  {
   "cell_type": "code",
   "execution_count": 53,
   "metadata": {},
   "outputs": [
    {
     "data": {
      "image/png": "[encoded data removed]",
      "text/plain": [
       "<Figure size 432x288 with 1 Axes>"
      ]
     },
     "metadata": {
      "needs_background": "light"
     },
     "output_type": "display_data"
    }
   ],
   "source": [
    "# Visualising the clusters\n",
    "plt.scatter(pca_features[labels == 0, 0], pca_features[labels == 0, 1], s = 50, c = 'red', label = 'Cluster 1')\n",
    "plt.scatter(pca_features[labels == 1, 0], pca_features[labels == 1, 1], s = 50, c = 'blue', label = 'Cluster 2')\n",
    "plt.scatter(pca_features[labels == 2, 0], pca_features[labels == 2, 1], s = 50, c = 'green', label = 'Cluster 3')\n",
    "plt.scatter(pca_features[labels == 3, 0], pca_features[labels == 3, 1], s = 50, c = 'cyan', label = 'Cluster 4')\n",
    "plt.scatter(pca_features[labels == 4, 0], pca_features[labels == 4, 1], s = 50, c = 'magenta', label = 'Cluster 5')\n",
    "plt.scatter(kmeans.cluster_centers_[:, 0], kmeans.cluster_centers_[:, 1], s = 100, c = 'yellow', label = 'Centroids', marker='D')\n",
    "plt.title('Clusters of customers')\n",
    "plt.xlabel('Annual Income (k$)')\n",
    "plt.ylabel('Spending Score (1-100)')\n",
    "plt.legend()\n",
    "plt.show()"
   ]
  }
 ],
 "metadata": {
  "kernelspec": {
   "display_name": "Python 3",
   "language": "python",
   "name": "python3"
  },
  "language_info": {
   "codemirror_mode": {
    "name": "ipython",
    "version": 3
   },
   "file_extension": ".py",
   "mimetype": "text/x-python",
   "name": "python",
   "nbconvert_exporter": "python",
   "pygments_lexer": "ipython3",
   "version": "3.7.4"
  }
 },
 "nbformat": 4,
 "nbformat_minor": 2
}
